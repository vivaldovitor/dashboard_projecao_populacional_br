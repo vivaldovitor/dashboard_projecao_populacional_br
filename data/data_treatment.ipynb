{
 "cells": [
  {
   "cell_type": "code",
   "execution_count": 2,
   "id": "167ccd8b",
   "metadata": {},
   "outputs": [],
   "source": [
    "import pandas as pd"
   ]
  },
  {
   "cell_type": "code",
   "execution_count": 3,
   "id": "00322e2e",
   "metadata": {},
   "outputs": [],
   "source": [
    "orig_projection_df = pd.read_excel(\"raw/projecoes_2024_tab1_idade_simples.xlsx\", skiprows=5)"
   ]
  },
  {
   "cell_type": "code",
   "execution_count": 4,
   "id": "e19fd60d",
   "metadata": {},
   "outputs": [],
   "source": [
    "orig_projection_df.to_csv(\"processed/projecoes_populacao_idade_2000_2070.csv\", index=False)"
   ]
  },
  {
   "cell_type": "code",
   "execution_count": 5,
   "id": "c0e57a41",
   "metadata": {},
   "outputs": [],
   "source": [
    "new_projection_df = pd.read_csv(\"processed/projecoes_populacao_idade_2000_2070.csv\")"
   ]
  },
  {
   "cell_type": "code",
   "execution_count": null,
   "id": "df940e5a",
   "metadata": {},
   "outputs": [],
   "source": [
    "new_projection_df"
   ]
  }
 ],
 "metadata": {
  "kernelspec": {
   "display_name": ".venv",
   "language": "python",
   "name": "python3"
  },
  "language_info": {
   "codemirror_mode": {
    "name": "ipython",
    "version": 3
   },
   "file_extension": ".py",
   "mimetype": "text/x-python",
   "name": "python",
   "nbconvert_exporter": "python",
   "pygments_lexer": "ipython3",
   "version": "3.13.3"
  }
 },
 "nbformat": 4,
 "nbformat_minor": 5
}
